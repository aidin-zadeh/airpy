{
 "cells": [
  {
   "cell_type": "code",
   "execution_count": 1,
   "metadata": {},
   "outputs": [
    {
     "name": "stderr",
     "output_type": "stream",
     "text": [
      "Using TensorFlow backend.\n"
     ]
    },
    {
     "ename": "ImportError",
     "evalue": "cannot import name 'series_to_supervised'",
     "output_type": "error",
     "traceback": [
      "\u001b[0;31m---------------------------------------------------------------------------\u001b[0m",
      "\u001b[0;31mImportError\u001b[0m                               Traceback (most recent call last)",
      "\u001b[0;32m<ipython-input-1-f7a59ac84efb>\u001b[0m in \u001b[0;36m<module>\u001b[0;34m()\u001b[0m\n\u001b[1;32m     15\u001b[0m \u001b[0;34m\u001b[0m\u001b[0m\n\u001b[1;32m     16\u001b[0m \u001b[0;32mfrom\u001b[0m \u001b[0mairpollutionpy\u001b[0m\u001b[0;34m.\u001b[0m\u001b[0mutils\u001b[0m \u001b[0;32mimport\u001b[0m \u001b[0mparse_datetime\u001b[0m\u001b[0;34m\u001b[0m\u001b[0m\n\u001b[0;32m---> 17\u001b[0;31m \u001b[0;32mfrom\u001b[0m \u001b[0mairpollutionpy\u001b[0m\u001b[0;34m.\u001b[0m\u001b[0mdata\u001b[0m \u001b[0;32mimport\u001b[0m \u001b[0mseries_to_supervised\u001b[0m\u001b[0;34m\u001b[0m\u001b[0m\n\u001b[0m",
      "\u001b[0;31mImportError\u001b[0m: cannot import name 'series_to_supervised'"
     ]
    }
   ],
   "source": [
    "import os, sys, inspect\n",
    "import numpy as np\n",
    "import matplotlib.pyplot as plt\n",
    "import pandas as pd\n",
    "from sklearn.preprocessing import MinMaxScaler\n",
    "from sklearn.preprocessing import LabelEncoder\n",
    "from sklearn.metrics import mean_squared_error\n",
    "from keras.models import Sequential\n",
    "from keras.layers import Dense\n",
    "from keras.layers import LSTM\n",
    "# add parent dir to system dir\n",
    "currdir = os.path.dirname(os.path.abspath(inspect.getfile(inspect.currentframe())))\n",
    "rootdir = os.path.dirname(currdir)\n",
    "sys.path.insert(0, rootdir)\n",
    "\n",
    "from airpollutionpy.utils import parse_datetime\n",
    "from airpollutionpy.utils import series_to_supervised"
   ]
  },
  {
   "cell_type": "code",
   "execution_count": null,
   "metadata": {},
   "outputs": [],
   "source": [
    "# load data\n",
    "fname = \"PRSA_data_2010.1.1-2014.12.31.csv\"\n",
    "ffname = os.path.join(rootdir, \"airpollutionpy\", \"data\", \"ext\", fname)\n",
    "data = pd.read_csv(ffname, parse_dates = [['year', 'month', 'day', 'hour']], index_col=0, date_parser=parse_datetime)"
   ]
  },
  {
   "cell_type": "code",
   "execution_count": null,
   "metadata": {},
   "outputs": [],
   "source": [
    "# clean data\n",
    "data.drop(\"No\", axis=1, inplace=True)\n",
    "data.columns = ['pollution', 'dew', 'temp', 'press', 'wnd_dir', 'wnd_spd', 'snow', 'rain']\n",
    "data.index.name = 'date'\n",
    "# mark all NA values with 0\n",
    "data['pollution'].fillna(0, inplace=True)\n",
    "# drop the first 24 hours\n",
    "data = data[24:]\n",
    "# summarize first 5 rows\n",
    "print(data.head(5))\n",
    "# save to file\n",
    "ffname = os.path.join(rootdir, \"airpollutionpy\", \"data\", \"int\", \"pollution.csv\")\n",
    "data.to_csv(ffname)"
   ]
  },
  {
   "cell_type": "code",
   "execution_count": null,
   "metadata": {},
   "outputs": [],
   "source": [
    "# plot trends\n",
    "# load data\n",
    "data = pd.read_csv(ffname, header=0, index_col=0)\n",
    "values = data.values\n",
    "n_data, n_variables = data.shape\n",
    "# specify columns to plot\n",
    "groups = [0, 1, 2, 3, 5, 6, 7]\n",
    "i = 1\n",
    "# plot each column\n",
    "plt.figure()\n",
    "for group in groups:\n",
    "    plt.subplot(len(groups), 1, i)\n",
    "    plt.plot(values[:, group])\n",
    "    plt.title(data.columns[group], y=0.5, loc='right')\n",
    "    i += 1\n",
    "plt.show()"
   ]
  },
  {
   "cell_type": "code",
   "execution_count": null,
   "metadata": {},
   "outputs": [],
   "source": [
    "# indext of target variable to predict\n",
    "index_target = 0\n",
    "# set model parameters\n",
    "n_lag = 3\n",
    "n_train = 365 * 24\n",
    "n_units = 50\n",
    "\n",
    "# set train parameters\n",
    "optimizer = \"adam\"\n",
    "loss = \"mae\"\n",
    "n_epochs = 30\n",
    "sz_batch = 72\n",
    "verbose = 1"
   ]
  },
  {
   "cell_type": "code",
   "execution_count": null,
   "metadata": {},
   "outputs": [],
   "source": [
    "# pre-process data\n",
    "# encode wind direction with value of the range [0:7]\n",
    "encoder = LabelEncoder()\n",
    "values[:,4] = encoder.fit_transform(values[:,4])\n",
    "# call all data types to float\n",
    "values = values.astype('float32')\n",
    "# normalize variables to [0, 1]\n",
    "minmax_scaler = MinMaxScaler(feature_range=(0, 1))\n",
    "values_scaled = minmax_scaler.fit_transform(values)\n",
    "# reframe sequential data as supervised learning probelm\n",
    "reframed_df = series_to_supervised(values_scaled, n_lag, 1)\n",
    "print(reframed_df.head(5))"
   ]
  },
  {
   "cell_type": "code",
   "execution_count": null,
   "metadata": {},
   "outputs": [],
   "source": [
    "# create train/valid data\n",
    "# split into train and test sets\n",
    "values = reframed_df.values\n",
    "train_values = values[:n_train, :]\n",
    "valid_values= values[n_train:, :]"
   ]
  },
  {
   "cell_type": "code",
   "execution_count": null,
   "metadata": {},
   "outputs": [],
   "source": [
    "# split into input and targets\n",
    "n_train = train_values.shape[0]\n",
    "n_valid = valid_values.shape[0]\n",
    "n_observations = n_lag * n_variables\n",
    "x_train, y_train = train_values[:, :n_observations], train_values[:, index_target-n_variables]\n",
    "x_valid, y_valid = valid_values[:, :n_observations], valid_values[:, index_target-n_variables]\n",
    "x_train = x_train.reshape((n_train, n_lag, n_variables))\n",
    "x_valid = x_valid.reshape((n_valid, n_lag, n_variables))\n",
    "print(f\"Train Inputs Shape: {x_train.shape}, Train Targets Shape: {y_train.shape}\")\n",
    "print(f\"Valid Inputs Shape: {x_valid.shape}, Valid Targets Shape: {y_valid.shape}\")"
   ]
  },
  {
   "cell_type": "code",
   "execution_count": null,
   "metadata": {},
   "outputs": [],
   "source": [
    "# build model\n",
    "model = Sequential()\n",
    "model.add(LSTM(n_units, input_shape=(n_lag, n_variables)))\n",
    "model.add(Dense(1))\n",
    "model.compile(loss=loss, optimizer=optimizer)"
   ]
  },
  {
   "cell_type": "code",
   "execution_count": null,
   "metadata": {},
   "outputs": [],
   "source": [
    "# train model\n",
    "history = model.fit(x_train, y_train,\n",
    "                    epochs=n_epochs,\n",
    "                    batch_size=sz_batch,\n",
    "                    validation_data=(x_valid, y_valid),\n",
    "                    verbose=verbose,\n",
    "                    shuffle=False)"
   ]
  },
  {
   "cell_type": "code",
   "execution_count": null,
   "metadata": {},
   "outputs": [],
   "source": [
    "# plot history\n",
    "plt.plot(history.history['loss'], label='train')\n",
    "plt.plot(history.history['val_loss'], label='test')\n",
    "plt.legend()\n",
    "plt.show()"
   ]
  },
  {
   "cell_type": "code",
   "execution_count": null,
   "metadata": {},
   "outputs": [],
   "source": [
    "# make a prediction\n",
    "yhat_valid = model.predict(x_valid)\n"
   ]
  },
  {
   "cell_type": "code",
   "execution_count": null,
   "metadata": {},
   "outputs": [],
   "source": [
    "# invert normalization/scaling for prediction on valid set\n",
    "x_valid = x_valid.reshape((n_valid, n_lag*n_variables))\n",
    "xyhat_valid = x_valid[:, -n_variables:].copy()\n",
    "xyhat_valid[:,[index_target]] = yhat_valid"
   ]
  },
  {
   "cell_type": "code",
   "execution_count": null,
   "metadata": {},
   "outputs": [],
   "source": [
    "# invert normalization/scaling for input valid set\n",
    "y_valid = y_valid.reshape((len(y_valid), 1))\n",
    "xy_valid = x_valid[:, -n_variables:].copy()\n",
    "xy_valid[:,[index_target]] = y_valid"
   ]
  },
  {
   "cell_type": "code",
   "execution_count": null,
   "metadata": {},
   "outputs": [],
   "source": [
    "# calculate RMSE\n",
    "rmse = np.sqrt(mean_squared_error(xy_valid[:, [index_target]], xyhat_valid[:, [index_target]]))\n",
    "print('Test RMSE: %.3f' % rmse)"
   ]
  },
  {
   "cell_type": "code",
   "execution_count": null,
   "metadata": {},
   "outputs": [],
   "source": [
    "figsize = (20, 8)\n",
    "fig = plt.figure(figsize=figsize)\n",
    "ax = fig.subplots(2, 1)\n",
    "ax[0].plot(np.arange(0, xy_valid.shape[0]), xyhat_valid[:, index_target], label=\"Ground Truth\")\n",
    "ax[0].legend()\n",
    "ax[1].plot(np.arange(0, xyhat_valid.shape[0]), xyhat_valid[:, index_target], label=\"prediction\")\n",
    "ax[1].legend()"
   ]
  },
  {
   "cell_type": "code",
   "execution_count": null,
   "metadata": {},
   "outputs": [],
   "source": []
  }
 ],
 "metadata": {
  "kernelspec": {
   "display_name": "Python [conda env:08-project-one]",
   "language": "python",
   "name": "conda-env-08-project-one-py"
  },
  "language_info": {
   "codemirror_mode": {
    "name": "ipython",
    "version": 3
   },
   "file_extension": ".py",
   "mimetype": "text/x-python",
   "name": "python",
   "nbconvert_exporter": "python",
   "pygments_lexer": "ipython3",
   "version": "3.6.5"
  }
 },
 "nbformat": 4,
 "nbformat_minor": 2
}
